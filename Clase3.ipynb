{
  "nbformat": 4,
  "nbformat_minor": 0,
  "metadata": {
    "colab": {
      "provenance": [],
      "authorship_tag": "ABX9TyMkJe/ZPEFOv5C7VGQZ3wxh",
      "include_colab_link": true
    },
    "kernelspec": {
      "name": "python3",
      "display_name": "Python 3"
    },
    "language_info": {
      "name": "python"
    }
  },
  "cells": [
    {
      "cell_type": "markdown",
      "metadata": {
        "id": "view-in-github",
        "colab_type": "text"
      },
      "source": [
        "<a href=\"https://colab.research.google.com/github/fenix77r/CursoPython/blob/main/Clase3.ipynb\" target=\"_parent\"><img src=\"https://colab.research.google.com/assets/colab-badge.svg\" alt=\"Open In Colab\"/></a>"
      ]
    },
    {
      "cell_type": "markdown",
      "source": [
        "**MANEJO DE ERRORES, CICLOS Y BUCLES**\n",
        "\n",
        "CURSO PYTHON\n",
        "\n",
        "UNICAFAM\n",
        "\n",
        "ESTUDIANTE: MIGUEL FERNANDO RUIZ TINOCO\n",
        "\n",
        "DOCENTE: NICOLAS MOJICA"
      ],
      "metadata": {
        "id": "N3WfIsjHIAaI"
      }
    },
    {
      "cell_type": "markdown",
      "source": [
        "**Tipos de Errores:**\n",
        "\n",
        "- SyntaxError: Error de sintaxis en el código.\n",
        "- TypeError: Operación o función aplicada a un tipo inapropiado.\n",
        "- ValueError: Argumento con el tipo correcto pero valor inapropiado.\n",
        "- IndexError: Índice fuera del rango de una lista o secuencia.\n",
        "- KeyError: Clave que no existe en un diccionario.\n",
        "- FileNotFoundError: Archivo no encontrado.\n",
        "- ZeroDivisionError: División por cero.\n",
        "- IOError: Problema de entrada/salida al leer o escribir archivos.\n",
        "- AttributeError: Atributo que no existe en un objeto.\n",
        "- ImportError: Módulo no encontrado al intentar importarlo.\n",
        "- MemoryError: Agotamiento de memoria.\n",
        "- OverflowError: Operación que excede el rango numérico.\n",
        "tiene menú contextual"
      ],
      "metadata": {
        "id": "657g1zAzIW9H"
      }
    },
    {
      "cell_type": "code",
      "execution_count": null,
      "metadata": {
        "id": "AxQ1q24uH_mM"
      },
      "outputs": [],
      "source": [
        "# Generar funcion que Divida dos numeros\n",
        "\n",
        "a = int(input(\"Ingrese el primer numero: \"))\n",
        "b = int(input(\"Ingrese el segundo numero: \"))\n",
        "\n",
        "try:\n",
        "  def division(a,b):\n",
        "    c=a/b\n",
        "    return pritn(c)\n",
        "\n",
        "  division(a,b)\n",
        "except ZeroDivisionError:\n",
        "  print(\"No se puede dividir entre cero\")\n"
      ]
    }
  ]
}