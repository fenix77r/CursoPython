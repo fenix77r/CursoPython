{
  "nbformat": 4,
  "nbformat_minor": 0,
  "metadata": {
    "colab": {
      "provenance": [],
      "authorship_tag": "ABX9TyNt7ssgDk6WpgInRU/kaAvE",
      "include_colab_link": true
    },
    "kernelspec": {
      "name": "python3",
      "display_name": "Python 3"
    },
    "language_info": {
      "name": "python"
    }
  },
  "cells": [
    {
      "cell_type": "markdown",
      "metadata": {
        "id": "view-in-github",
        "colab_type": "text"
      },
      "source": [
        "<a href=\"https://colab.research.google.com/github/fenix77r/CursoPython/blob/main/Clase2.ipynb\" target=\"_parent\"><img src=\"https://colab.research.google.com/assets/colab-badge.svg\" alt=\"Open In Colab\"/></a>"
      ]
    },
    {
      "cell_type": "markdown",
      "source": [
        "**CONDICIONALES Y FUNCIONES**\n",
        "\n",
        "CURSO PYTHON\n",
        "\n",
        "UNICAFAM\n",
        "\n",
        "ESTUDIANTE: MIGUEL FERNANDO RUIZ TINOCO\n",
        "\n",
        "DOCENTE: NICOLAS MOJICA"
      ],
      "metadata": {
        "id": "nq7JJ8QPBfcE"
      }
    },
    {
      "cell_type": "code",
      "execution_count": null,
      "metadata": {
        "id": "M087d0sABWOe"
      },
      "outputs": [],
      "source": [
        "# OPERADORES DE COMPARACION\n",
        "\n",
        "===\n",
        "== iGUAL\n",
        "!= DIFERENTE\n",
        "< MENOR QUE\n",
        "> MAYOR QUE\n",
        "<= MENOR O IGUAL QUE\n",
        ">= MAYOR O IGUAL QUE\n",
        "\n",
        "==="
      ]
    },
    {
      "cell_type": "markdown",
      "source": [
        "** GENRAR UN PROGRAMA DE QUE TERMINE SI UNA PERSONA ES MAYOR DE EDAD **"
      ],
      "metadata": {
        "id": "a-Hoxn9ZCv-I"
      }
    },
    {
      "cell_type": "code",
      "source": [
        "edad=18\n",
        "if edad>=18:\n",
        "    print(\"Es mayor de edad\")\n",
        "else:\n",
        "    print(\"Es menor de edad\")\n",
        ""
      ],
      "metadata": {
        "colab": {
          "base_uri": "https://localhost:8080/"
        },
        "id": "mKGsKAi2C5aT",
        "outputId": "859413f2-e957-47d9-e55c-5b71d39038e0"
      },
      "execution_count": 1,
      "outputs": [
        {
          "output_type": "stream",
          "name": "stdout",
          "text": [
            "Es mayor de edad\n"
          ]
        }
      ]
    },
    {
      "cell_type": "code",
      "source": [
        "# CONDICIONES ANIDADAS\n",
        "\n",
        "nota=85\n",
        "if nota>=60:\n",
        "  if nota>=90:\n",
        "    print(\"calificacion alta\")\n",
        "  elif nota>=80:\n",
        "    print(\"calificacion media\")\n",
        "  else:\n",
        "    print(\"calificacion baja\")\n",
        "else:\n",
        "  print(\"no aprobado\")\n",
        ""
      ],
      "metadata": {
        "colab": {
          "base_uri": "https://localhost:8080/"
        },
        "id": "5Pv5iDv2D1J_",
        "outputId": "9460d594-cdcc-47a1-b9de-bd3a5b12f2fa"
      },
      "execution_count": 2,
      "outputs": [
        {
          "output_type": "stream",
          "name": "stdout",
          "text": [
            "calificacion media\n"
          ]
        }
      ]
    },
    {
      "cell_type": "code",
      "source": [
        "calificacion=float(input(\"Ingrese su calificacion: \"))\n",
        "if calificacion >=60:\n",
        "  print(\"Aprobado\")\n",
        "else:\n",
        "  print(\"Reprobado\")"
      ],
      "metadata": {
        "colab": {
          "base_uri": "https://localhost:8080/"
        },
        "id": "ZCBuHhoMGLuY",
        "outputId": "a088bab1-4ecf-4753-f034-be1b1d12a87a"
      },
      "execution_count": 3,
      "outputs": [
        {
          "output_type": "stream",
          "name": "stdout",
          "text": [
            "Ingrese su calificacion: 50\n",
            "Reprobado\n"
          ]
        }
      ]
    },
    {
      "cell_type": "markdown",
      "source": [
        "Escribe un programa que clasifique la edad en diferentes categorías: Niño (0-12 años), Adolescente (13-17 años), Adulto (18-64 años) y Anciano (65 años o más)."
      ],
      "metadata": {
        "id": "-Klb8zLcHZHw"
      }
    },
    {
      "cell_type": "code",
      "source": [
        "edad = int(input(\"Ingresa la edad: \"))\n",
        "\n",
        "if 0 <= edad <= 12:\n",
        "  categoria = \"Niño\"\n",
        "elif 13 <= edad <= 17:\n",
        "  categoria =  \"Adolescente\"\n",
        "elif 18 <= edad <= 64:\n",
        "  categoria =  \"Adulto\"\n",
        "elif edad >= 65:\n",
        "  categoria =  \"Anciano\"\n",
        "else:\n",
        "  categoria = \"Edad inválida\"\n",
        "\n",
        "print(categoria)"
      ],
      "metadata": {
        "colab": {
          "base_uri": "https://localhost:8080/"
        },
        "id": "K8AZ6us8HXM8",
        "outputId": "39c2b0e2-7f3d-4ad9-8824-df61d7bd1381"
      },
      "execution_count": 9,
      "outputs": [
        {
          "output_type": "stream",
          "name": "stdout",
          "text": [
            "Ingresa la edad: 14\n",
            "Con 14 años, eres considerado: Adolescente\n"
          ]
        }
      ]
    },
    {
      "cell_type": "markdown",
      "source": [
        "Escribe un programa que pida al usuario una contraseña y verifique si es correcta. La contraseña correcta es \"secreta123\"."
      ],
      "metadata": {
        "id": "lU5qTYciKmPR"
      }
    },
    {
      "cell_type": "code",
      "source": [
        "contraseña_correcta = \"secreta123\"\n",
        "contraseña_ingresada = input(\"Ingresa la contraseña: \")\n",
        "\n",
        "if contraseña_ingresada == contraseña_correcta:\n",
        "  print(\"Contraseña correcta\")\n",
        "else:\n",
        "  print(\"Contraseña incorrecta\")\n",
        "\n",
        "\n"
      ],
      "metadata": {
        "id": "dSPRdpnwKo9_"
      },
      "execution_count": null,
      "outputs": []
    },
    {
      "cell_type": "markdown",
      "source": [
        "Crea un programa que lea dos números y determine cuál es mayor, cuál es menor o si ambos son iguales."
      ],
      "metadata": {
        "id": "6B94DHZCLHSe"
      }
    },
    {
      "cell_type": "code",
      "source": [
        "numero1 = float(input(\"Ingresa el primer número: \"))\n",
        "numero2 = float(input(\"Ingresa el segundo número: \"))\n",
        "\n",
        "if numero1 > numero2:\n",
        "  print(f\"{numero1} es mayor que {numero2}\")\n",
        "elif numero1 < numero2:\n",
        "  print(f\"{numero1} es menor que {numero2}\")\n",
        "else:\n",
        "  print(f\"{numero1}  y {numero2} son iguales\")\n",
        "\n",
        ""
      ],
      "metadata": {
        "id": "lEJT-bPOLKBB"
      },
      "execution_count": null,
      "outputs": []
    },
    {
      "cell_type": "markdown",
      "source": [
        "FUNCIONES"
      ],
      "metadata": {
        "id": "Wh3_SIFSNAOH"
      }
    },
    {
      "cell_type": "code",
      "source": [
        "# y=mx+b\n",
        "# y=2x+4\n",
        "\n",
        "x=5\n",
        "\n",
        "def recta(x):\n",
        "  return (2*x)+4\n",
        "y=recta(x)\n",
        "print(y)"
      ],
      "metadata": {
        "colab": {
          "base_uri": "https://localhost:8080/"
        },
        "id": "L3YQmlD_NCXH",
        "outputId": "2405b8fd-a63d-4dc6-f80e-8d18ff2c6869"
      },
      "execution_count": 10,
      "outputs": [
        {
          "output_type": "stream",
          "name": "stdout",
          "text": [
            "14\n"
          ]
        }
      ]
    },
    {
      "cell_type": "code",
      "source": [
        "# contruir una funcion que genere la suma de dos numeros\n",
        "def suma(a,b):\n",
        "  return a+b\n",
        "\n",
        "print (suma(4,8))\n",
        "\n"
      ],
      "metadata": {
        "colab": {
          "base_uri": "https://localhost:8080/"
        },
        "id": "bprWAmnBPNMe",
        "outputId": "18531987-c9ce-405b-b861-1fce9a38a82c"
      },
      "execution_count": 11,
      "outputs": [
        {
          "output_type": "stream",
          "name": "stdout",
          "text": [
            "12\n"
          ]
        }
      ]
    },
    {
      "cell_type": "code",
      "source": [
        "# dada 2 variables a y b calcular la suma y la resta entre estos dos valores\n",
        "\n",
        "def operaciones(a,b):\n",
        "  sumas=a+b\n",
        "  restas=a-b\n",
        "  return sumas,restas\n",
        "\n",
        "sumas,restas=operaciones(3,7)\n",
        "print(f\"suma:{sumas},resta:{restas}\")\n",
        ""
      ],
      "metadata": {
        "colab": {
          "base_uri": "https://localhost:8080/"
        },
        "id": "ph_Thia7QlwR",
        "outputId": "f23d10e5-9b37-41b6-d915-bd9bb7c7d8df"
      },
      "execution_count": 12,
      "outputs": [
        {
          "output_type": "stream",
          "name": "stdout",
          "text": [
            "suma:10,resta:-4\n"
          ]
        }
      ]
    },
    {
      "cell_type": "code",
      "source": [
        "# Funcion que determine si un numero es Par o Impar y que envie un mensaje con el resultado de la validacion\n",
        "\n",
        "def par_impar(numero):\n",
        "  if numero%2==0:\n",
        "    return print(f\"{numero} es par\")\n",
        "  else:\n",
        "    return print(f\"{numero} es impar\")\n",
        "\n",
        "par_impar(4)\n",
        "\n"
      ],
      "metadata": {
        "colab": {
          "base_uri": "https://localhost:8080/"
        },
        "id": "l8EVcDwhR-wA",
        "outputId": "922beed4-111a-4f31-d33d-1c211213c140"
      },
      "execution_count": 14,
      "outputs": [
        {
          "output_type": "stream",
          "name": "stdout",
          "text": [
            "4 es par\n"
          ]
        }
      ]
    }
  ]
}