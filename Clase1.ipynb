{
  "nbformat": 4,
  "nbformat_minor": 0,
  "metadata": {
    "colab": {
      "provenance": [],
      "authorship_tag": "ABX9TyOGX28C46faSw+Ugia6WgDk",
      "include_colab_link": true
    },
    "kernelspec": {
      "name": "python3",
      "display_name": "Python 3"
    },
    "language_info": {
      "name": "python"
    }
  },
  "cells": [
    {
      "cell_type": "markdown",
      "metadata": {
        "id": "view-in-github",
        "colab_type": "text"
      },
      "source": [
        "<a href=\"https://colab.research.google.com/github/fenix77r/CursoPython/blob/main/Clase1.ipynb\" target=\"_parent\"><img src=\"https://colab.research.google.com/assets/colab-badge.svg\" alt=\"Open In Colab\"/></a>"
      ]
    },
    {
      "cell_type": "markdown",
      "source": [
        "**INTRODUCCION A PYTHON**\n",
        "\n",
        "CURSO PYTHON\n",
        "\n",
        "UNICAFAM\n",
        "\n",
        "ESTUDIANTE: MIGUEL FERNANDO RUIZ TINOCO\n",
        "\n",
        "DOCENTE: NICOLAS MOJICA\n",
        "\n",
        "\n",
        "\n",
        "---"
      ],
      "metadata": {
        "id": "JvvmZulNAsTA"
      }
    },
    {
      "cell_type": "code",
      "source": [
        "# PARA PODER HACER COMENTARIOS DEBO USAR #\n",
        "print(\"HOLA MUNDO\")"
      ],
      "metadata": {
        "colab": {
          "base_uri": "https://localhost:8080/"
        },
        "id": "L571f7__Ci8G",
        "outputId": "6d843cce-a704-4ffd-f6fc-49245193ea93"
      },
      "execution_count": null,
      "outputs": [
        {
          "output_type": "stream",
          "name": "stdout",
          "text": [
            "HOLA MUNDO\n"
          ]
        }
      ]
    },
    {
      "cell_type": "code",
      "source": [
        "# PARA INSERTAR COMENTARIOS DE MAS DE 2 LINEAS USAR \"\n",
        "\n",
        "\n",
        "\"\"\"\n",
        "ESTO ES UN COMENTARIO\n",
        "DE MAS DE 2 LINEAS\n",
        "\"\"\"\n",
        "print(\"HOLA MUNDO\")\n",
        "\n"
      ],
      "metadata": {
        "colab": {
          "base_uri": "https://localhost:8080/"
        },
        "id": "5k8GxT0MEcVl",
        "outputId": "ce06f506-4e24-467a-a88a-817d5947e751"
      },
      "execution_count": null,
      "outputs": [
        {
          "output_type": "stream",
          "name": "stdout",
          "text": [
            "HOLA MUNDO\n"
          ]
        }
      ]
    },
    {
      "cell_type": "markdown",
      "source": [
        "**VARIABLES**"
      ],
      "metadata": {
        "id": "eRtlw1cqFJ7X"
      }
    },
    {
      "cell_type": "code",
      "source": [
        "#  UNA VARIABLE SOLO SEW DEBE NOMBRAR SIN CARACTERES ESPECIALES, SIN ESPACIOS, SIN MINUSCULAS\n",
        "var=\"HOLA MUNDO\"\n",
        "print(var)"
      ],
      "metadata": {
        "colab": {
          "base_uri": "https://localhost:8080/"
        },
        "id": "NwYYCNjkFhin",
        "outputId": "951122c0-373f-4954-98de-39f8e3efa7ce"
      },
      "execution_count": null,
      "outputs": [
        {
          "output_type": "stream",
          "name": "stdout",
          "text": [
            "HOLA MUNDO\n"
          ]
        }
      ]
    },
    {
      "cell_type": "code",
      "source": [
        "var=\"ADIOS MUNDO\"\n",
        "print(var)"
      ],
      "metadata": {
        "colab": {
          "base_uri": "https://localhost:8080/"
        },
        "id": "q9V1aWpKG1Fq",
        "outputId": "6a4688b7-9652-4337-a8d7-58fd2ff629d4"
      },
      "execution_count": null,
      "outputs": [
        {
          "output_type": "stream",
          "name": "stdout",
          "text": [
            "ADIOS MUNDO\n"
          ]
        }
      ]
    },
    {
      "cell_type": "markdown",
      "source": [
        "**TIPOS DE DATOS**"
      ],
      "metadata": {
        "id": "DOqX0rQuG_1X"
      }
    },
    {
      "cell_type": "code",
      "source": [
        "entero=42\n",
        "flotante=3.14\n",
        "cadena=\"Hola Mundo\"\n",
        "booleano=True"
      ],
      "metadata": {
        "id": "Meubc8fKHEgz"
      },
      "execution_count": null,
      "outputs": []
    },
    {
      "cell_type": "code",
      "source": [
        "#conversiones de tipos de datos\n",
        "entero=int(3.14) # La respuesta es 3\n",
        "flotante=float(42) # La respuesta es 42,a\n",
        "cadena=str(42)\n",
        "booleano=bool(0)"
      ],
      "metadata": {
        "id": "1_KhkrVrIUFA"
      },
      "execution_count": null,
      "outputs": []
    },
    {
      "cell_type": "markdown",
      "source": [
        "**VALORES STRING**"
      ],
      "metadata": {
        "id": "CqKF-K_0Ah-S"
      }
    },
    {
      "cell_type": "code",
      "source": [
        "# CONCATENACION DE CARACTERES\n",
        "saludo=\"Hola\"\n",
        "nombre=\"Juan\"\n",
        "mensaje=saludo+\" \"+nombre\n",
        "print(mensaje)\n"
      ],
      "metadata": {
        "colab": {
          "base_uri": "https://localhost:8080/"
        },
        "id": "D_Pf4wbHAkzS",
        "outputId": "965f8676-5934-421e-9ad6-a9ff8ff44859"
      },
      "execution_count": null,
      "outputs": [
        {
          "output_type": "stream",
          "name": "stdout",
          "text": [
            "Hola Juan\n"
          ]
        }
      ]
    },
    {
      "cell_type": "code",
      "source": [
        "# REPETICION DE CARACTERES #\n",
        "\n",
        "repetido=saludo*3\n",
        "print(repetido)"
      ],
      "metadata": {
        "colab": {
          "base_uri": "https://localhost:8080/"
        },
        "id": "pEAXAlloA3pS",
        "outputId": "cf26b54c-a8fe-4aa8-8fe1-51dc62d69440"
      },
      "execution_count": null,
      "outputs": [
        {
          "output_type": "stream",
          "name": "stdout",
          "text": [
            "HolaHolaHola\n"
          ]
        }
      ]
    },
    {
      "cell_type": "code",
      "source": [
        "# INDEXACION\n",
        "# OBTENER UNA VARIABLE QUE CONTENGA EL PRIMER CARACTER DE LA VARIABLE SALUDO\n",
        "\n",
        "primer_caracter=saludo[0]\n",
        "print(primer_caracter)\n",
        "\n",
        "# Genere nueva variable donde extraiga la palabra Hola\n",
        "\n",
        "subcadena=mensaje[0:4]\n",
        "print(subcadena)\n"
      ],
      "metadata": {
        "colab": {
          "base_uri": "https://localhost:8080/"
        },
        "id": "lvu-0nFsBIjw",
        "outputId": "5de4ad83-4c08-4bb1-9c2c-ef82a8c384f9"
      },
      "execution_count": null,
      "outputs": [
        {
          "output_type": "stream",
          "name": "stdout",
          "text": [
            "H\n",
            "Hola\n"
          ]
        }
      ]
    },
    {
      "cell_type": "code",
      "source": [
        "# Metodos de cadenas\n",
        "# MAYUSCULAS\n",
        "\n",
        "cadena='Python es genial'\n",
        "print(cadena.upper())\n",
        "\n",
        "#Minusculas\n",
        "\n",
        "print(cadena.lower())\n",
        "\n",
        "# Reemplazo\n",
        "\n",
        "print(cadena.replace(\"genial\",\"increible\"))\n",
        "\n",
        "#Separar\n",
        "\n",
        "print(cadena.split(\" \"))\n",
        "\n",
        "print(cadena[0])\n",
        "\n",
        "cadena_separada=cadena.split(\" \")\n",
        "print(cadena_separada[0])\n"
      ],
      "metadata": {
        "colab": {
          "base_uri": "https://localhost:8080/"
        },
        "id": "go9i_YIQCf_q",
        "outputId": "c613035e-a6f3-4dba-ef00-9ee4d56e1dd0"
      },
      "execution_count": null,
      "outputs": [
        {
          "output_type": "stream",
          "name": "stdout",
          "text": [
            "PYTHON ES GENIAL\n",
            "python es genial\n",
            "Python es increible\n",
            "['Python', 'es', 'genial']\n",
            "P\n",
            "Python\n"
          ]
        }
      ]
    },
    {
      "cell_type": "markdown",
      "source": [
        "**Estructura de Datos**"
      ],
      "metadata": {
        "id": "jhVq0zh4E_GW"
      }
    },
    {
      "cell_type": "code",
      "source": [
        "#La listas son las estructuras de datos en Python mas usadas por su flexibidad y facilidad\n",
        "lista = [1, 2, 3, \"cuatro\", 5.0]\n",
        "#Modificar elementos de la lista\n",
        "lista[3] = 4\n",
        "print(lista)\n",
        "\n",
        "#Remover elementos\n",
        "\n",
        "lista.remove(5.0)\n",
        "print(lista)\n",
        "\n",
        "#Agregar elementos\n",
        "lista.append(6)\n",
        "print(lista)\n",
        "\n"
      ],
      "metadata": {
        "id": "L2st2pwaGM-2"
      },
      "execution_count": null,
      "outputs": []
    }
  ]
}