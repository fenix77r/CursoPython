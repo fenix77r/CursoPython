{
  "nbformat": 4,
  "nbformat_minor": 0,
  "metadata": {
    "colab": {
      "provenance": [],
      "authorship_tag": "ABX9TyM9MvcZVftFl3Y28z6bJBEz",
      "include_colab_link": true
    },
    "kernelspec": {
      "name": "python3",
      "display_name": "Python 3"
    },
    "language_info": {
      "name": "python"
    }
  },
  "cells": [
    {
      "cell_type": "markdown",
      "metadata": {
        "id": "view-in-github",
        "colab_type": "text"
      },
      "source": [
        "<a href=\"https://colab.research.google.com/github/fenix77r/CursoPython/blob/main/Clase1.ipynb\" target=\"_parent\"><img src=\"https://colab.research.google.com/assets/colab-badge.svg\" alt=\"Open In Colab\"/></a>"
      ]
    },
    {
      "cell_type": "markdown",
      "source": [
        "**INTRODUCCION A PYTHON**\n",
        "\n",
        "CURSO PYTHON\n",
        "\n",
        "UNICAFAM\n",
        "\n",
        "ESTUDIANTE: MIGUEL FERNANDO RUIZ TINOCO\n",
        "\n",
        "DOCENTE: NICOLAS MOJICA\n",
        "\n",
        "\n",
        "\n",
        "---"
      ],
      "metadata": {
        "id": "JvvmZulNAsTA"
      }
    },
    {
      "cell_type": "code",
      "source": [
        "# PARA PODER HACER COMENTARIOS DEBO USAR #\n",
        "print(\"HOLA MUNDO\")"
      ],
      "metadata": {
        "colab": {
          "base_uri": "https://localhost:8080/"
        },
        "id": "L571f7__Ci8G",
        "outputId": "6d843cce-a704-4ffd-f6fc-49245193ea93"
      },
      "execution_count": 1,
      "outputs": [
        {
          "output_type": "stream",
          "name": "stdout",
          "text": [
            "HOLA MUNDO\n"
          ]
        }
      ]
    },
    {
      "cell_type": "code",
      "source": [
        "# PARA INSERTAR COMENTARIOS DE MAS DE 2 LINEAS USAR \"\n",
        "\n",
        "\n",
        "\"\"\"\n",
        "ESTO ES UN COMENTARIO\n",
        "DE MAS DE 2 LINEAS\n",
        "\"\"\"\n",
        "print(\"HOLA MUNDO\")\n",
        "\n"
      ],
      "metadata": {
        "colab": {
          "base_uri": "https://localhost:8080/"
        },
        "id": "5k8GxT0MEcVl",
        "outputId": "ce06f506-4e24-467a-a88a-817d5947e751"
      },
      "execution_count": 2,
      "outputs": [
        {
          "output_type": "stream",
          "name": "stdout",
          "text": [
            "HOLA MUNDO\n"
          ]
        }
      ]
    },
    {
      "cell_type": "markdown",
      "source": [
        "**VARIABLES**"
      ],
      "metadata": {
        "id": "eRtlw1cqFJ7X"
      }
    },
    {
      "cell_type": "code",
      "source": [
        "#  UNA VARIABLE SOLO SEW DEBE NOMBRAR SIN CARACTERES ESPECIALES, SIN ESPACIOS, SIN MINUSCULAS\n",
        "var=\"HOLA MUNDO\"\n",
        "print(var)"
      ],
      "metadata": {
        "colab": {
          "base_uri": "https://localhost:8080/"
        },
        "id": "NwYYCNjkFhin",
        "outputId": "951122c0-373f-4954-98de-39f8e3efa7ce"
      },
      "execution_count": 3,
      "outputs": [
        {
          "output_type": "stream",
          "name": "stdout",
          "text": [
            "HOLA MUNDO\n"
          ]
        }
      ]
    },
    {
      "cell_type": "code",
      "source": [
        "var=\"ADIOS MUNDO\"\n",
        "print(var)"
      ],
      "metadata": {
        "colab": {
          "base_uri": "https://localhost:8080/"
        },
        "id": "q9V1aWpKG1Fq",
        "outputId": "6a4688b7-9652-4337-a8d7-58fd2ff629d4"
      },
      "execution_count": 4,
      "outputs": [
        {
          "output_type": "stream",
          "name": "stdout",
          "text": [
            "ADIOS MUNDO\n"
          ]
        }
      ]
    },
    {
      "cell_type": "markdown",
      "source": [
        "**TIPOS DE DATOS**"
      ],
      "metadata": {
        "id": "DOqX0rQuG_1X"
      }
    },
    {
      "cell_type": "code",
      "source": [
        "entero=42\n",
        "flotante=3.14\n",
        "cadena=\"Hola Mundo\"\n",
        "booleano=True"
      ],
      "metadata": {
        "id": "Meubc8fKHEgz"
      },
      "execution_count": 6,
      "outputs": []
    },
    {
      "cell_type": "code",
      "source": [
        "#conversiones de tipos de datos\n",
        "entero=int(3.14) # La respuesta es 3\n",
        "flotante=float(42) # La respuesta es 42,a\n",
        "cadena=str(42)\n",
        "booleano=bool(0)"
      ],
      "metadata": {
        "id": "1_KhkrVrIUFA"
      },
      "execution_count": 5,
      "outputs": []
    }
  ]
}